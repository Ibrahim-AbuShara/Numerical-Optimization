{
 "cells": [
  {
   "cell_type": "code",
   "execution_count": 18,
   "id": "e709bcbe",
   "metadata": {},
   "outputs": [],
   "source": [
    "import numpy as np\n",
    "import matplotlib.pyplot as plt \n",
    "from sklearn.metrics import r2_score\n",
    "%matplotlib inline"
   ]
  },
  {
   "cell_type": "code",
   "execution_count": 19,
   "id": "70005810",
   "metadata": {},
   "outputs": [],
   "source": [
    "data = np.genfromtxt('MultiVarLR.csv',delimiter=',')"
   ]
  },
  {
   "cell_type": "code",
   "execution_count": 20,
   "id": "ccad2e9d",
   "metadata": {},
   "outputs": [
    {
     "data": {
      "text/plain": [
       "25"
      ]
     },
     "execution_count": 20,
     "metadata": {},
     "output_type": "execute_result"
    }
   ],
   "source": [
    "data.shape[0]"
   ]
  },
  {
   "cell_type": "code",
   "execution_count": 23,
   "id": "547e89a5",
   "metadata": {
    "scrolled": false
   },
   "outputs": [
    {
     "data": {
      "text/plain": [
       "array([[ 73.,  80.,  75.],\n",
       "       [ 93.,  88.,  93.],\n",
       "       [ 89.,  91.,  90.],\n",
       "       [ 96.,  98., 100.],\n",
       "       [ 73.,  66.,  70.],\n",
       "       [ 53.,  46.,  55.],\n",
       "       [ 69.,  74.,  77.],\n",
       "       [ 47.,  56.,  60.],\n",
       "       [ 87.,  79.,  90.],\n",
       "       [ 79.,  70.,  88.],\n",
       "       [ 69.,  70.,  73.],\n",
       "       [ 70.,  65.,  74.],\n",
       "       [ 93.,  95.,  91.],\n",
       "       [ 79.,  80.,  73.],\n",
       "       [ 70.,  73.,  78.],\n",
       "       [ 93.,  89.,  96.],\n",
       "       [ 78.,  75.,  68.],\n",
       "       [ 81.,  90.,  93.],\n",
       "       [ 88.,  92.,  86.],\n",
       "       [ 78.,  83.,  77.],\n",
       "       [ 82.,  86.,  90.],\n",
       "       [ 86.,  82.,  89.],\n",
       "       [ 78.,  83.,  85.],\n",
       "       [ 76.,  83.,  71.],\n",
       "       [ 96.,  93.,  95.]])"
      ]
     },
     "execution_count": 23,
     "metadata": {},
     "output_type": "execute_result"
    }
   ],
   "source": [
    "x=data[:,:-1]\n",
    "x"
   ]
  },
  {
   "cell_type": "code",
   "execution_count": 5,
   "id": "fc2e470a",
   "metadata": {},
   "outputs": [
    {
     "data": {
      "text/plain": [
       "array([152., 185., 180., 196., 142., 101., 149., 115., 175., 164., 141.,\n",
       "       141., 184., 152., 148., 192., 147., 183., 177., 159., 177., 175.,\n",
       "       175., 149., 192.])"
      ]
     },
     "execution_count": 5,
     "metadata": {},
     "output_type": "execute_result"
    }
   ],
   "source": [
    "y=data[:,-1]\n",
    "y"
   ]
  },
  {
   "cell_type": "code",
   "execution_count": 40,
   "id": "d96027fc",
   "metadata": {},
   "outputs": [],
   "source": [
    "import numpy as np\n",
    "\n",
    "def mini_batch_adam(x, y, alpha=0.01, batch=5, epochs=100, b1=0.9, b2=0.999, eps=1e-8):\n",
    "    X = np.concatenate((np.ones(x.shape[0])[:, np.newaxis], x), axis=1)\n",
    "    n_samples, n_features = X.shape\n",
    "    theta = np.zeros(n_features)\n",
    "    m_t = np.zeros(n_features)\n",
    "    v_t = np.zeros(n_features)\n",
    "    cost_epoch=[]\n",
    "    shuffle = np.random.permutation(n_samples)\n",
    "    X = X[shuffle]\n",
    "    y = y[shuffle]\n",
    "    for epoch in range(epochs):\n",
    "        for i in range(0, n_samples, batch):\n",
    "            X_batch = X[i:i+batch]\n",
    "            y_batch = y[i:i+batch]\n",
    "            y_pred = np.dot(X_batch, theta)\n",
    "            error = y_pred - y_batch\n",
    "            cost = np.sum(error ** 2) / (2 * batch)\n",
    "            d_theta = np.dot(X_batch.T, error) / batch\n",
    "            m_t = b1 * m_t + (1 - b1) * d_theta\n",
    "            v_t = b2 * v_t + (1 - b2) * (d_theta ** 2)\n",
    "            m_t_hat = m_t / (1 - b1 ** (i+1))\n",
    "            v_t_hat = v_t / (1 - b2 ** (i+1))\n",
    "            theta -= ((alpha) / ((np.sqrt(v_t_hat)) + eps) * m_t_hat)\n",
    "        cost_epoch.append(cost)\n",
    "        if epoch > 0:\n",
    "            if  np.linalg.norm(d_theta)<.001 or abs(cost_epoch[-1] - cost_epoch[-2]) < 0.001:\n",
    "                y_pred = np.dot(X, theta)\n",
    "                break\n",
    "            y_pred = np.dot(X, theta)\n",
    "    print(\"Epochs: \",epoch+1,'\\n')\n",
    "    print(\"Thetas:\\n\",theta.reshape(-1,1),'\\n')\n",
    "    print(\"y_predict:\\n\",y_pred.reshape(-1,1),\"\\n\")\n",
    "    print(\"y:\\n\",y.reshape(-1,1),\"\\n\")\n",
    "    print(\"Accuracy: \",r2_score(y,y_pred),\"\\n\")\n",
    "    plt.plot(cost_epoch,\".b-\")\n",
    "    plt.xlabel(\"Epocs\", fontsize = 15)\n",
    "    plt.ylabel(\"Cost\",fontsize = 15)\n",
    "    plt.show()"
   ]
  },
  {
   "cell_type": "code",
   "execution_count": 46,
   "id": "fb60b656",
   "metadata": {},
   "outputs": [
    {
     "name": "stdout",
     "output_type": "stream",
     "text": [
      "Epochs:  84 \n",
      "\n",
      "Thetas:\n",
      " [[0.67831967]\n",
      " [0.67034723]\n",
      " [0.67011708]\n",
      " [0.67687295]] \n",
      "\n",
      "y_predict:\n",
      " [[156.65684231]\n",
      " [160.70433812]\n",
      " [178.23616655]\n",
      " [149.31726246]\n",
      " [148.64015936]\n",
      " [143.25219925]\n",
      " [149.25154495]\n",
      " [187.64083507]\n",
      " [179.53072066]\n",
      " [198.39042225]\n",
      " [184.94009914]\n",
      " [182.23844261]\n",
      " [153.98850484]\n",
      " [188.27717278]\n",
      " [160.10876579]\n",
      " [110.32357277]\n",
      " [166.11932172]\n",
      " [104.26012063]\n",
      " [141.24883404]\n",
      " [141.22250101]\n",
      " [174.19542662]\n",
      " [191.65547212]\n",
      " [155.30240596]\n",
      " [172.85634322]\n",
      " [173.51947428]] \n",
      "\n",
      "y:\n",
      " [[152.]\n",
      " [159.]\n",
      " [183.]\n",
      " [148.]\n",
      " [149.]\n",
      " [141.]\n",
      " [147.]\n",
      " [192.]\n",
      " [177.]\n",
      " [196.]\n",
      " [185.]\n",
      " [180.]\n",
      " [152.]\n",
      " [184.]\n",
      " [164.]\n",
      " [115.]\n",
      " [175.]\n",
      " [101.]\n",
      " [141.]\n",
      " [142.]\n",
      " [177.]\n",
      " [192.]\n",
      " [149.]\n",
      " [175.]\n",
      " [175.]] \n",
      "\n",
      "Accuracy:  0.9784259600978945 \n",
      "\n"
     ]
    },
    {
     "data": {
      "image/png": "[encoded data removed]",
      "text/plain": [
       "<Figure size 640x480 with 1 Axes>"
      ]
     },
     "metadata": {},
     "output_type": "display_data"
    }
   ],
   "source": [
    "mini_batch_adam(x, y, alpha=0.01, batch=5, epochs=1000, b1=0.9, b2=0.999, eps=1e-8)"
   ]
  }
 ],
 "metadata": {
  "kernelspec": {
   "display_name": "Python 3 (ipykernel)",
   "language": "python",
   "name": "python3"
  },
  "language_info": {
   "codemirror_mode": {
    "name": "ipython",
    "version": 3
   },
   "file_extension": ".py",
   "mimetype": "text/x-python",
   "name": "python",
   "nbconvert_exporter": "python",
   "pygments_lexer": "ipython3",
   "version": "3.8.10"
  }
 },
 "nbformat": 4,
 "nbformat_minor": 5
}
