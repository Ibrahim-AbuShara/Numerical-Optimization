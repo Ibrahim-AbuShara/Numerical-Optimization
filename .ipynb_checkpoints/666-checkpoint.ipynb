{
 "cells": [
  {
   "cell_type": "code",
   "execution_count": 61,
   "metadata": {
    "colab": {
     "base_uri": "https://localhost:8080/"
    },
    "id": "D-ymp5yb2Bjh",
    "outputId": "6cb0490b-3052-4e01-85d1-a5c48e34954e"
   },
   "outputs": [
    {
     "data": {
      "text/plain": [
       "(25, 4)"
      ]
     },
     "execution_count": 61,
     "metadata": {},
     "output_type": "execute_result"
    }
   ],
   "source": [
    "import pandas as pd\n",
    "import numpy as np \n",
    "import matplotlib.pyplot as plt\n",
    "from math import ceil\n",
    "df = pd.read_csv(\"/content/MultiVarLR.csv\",header=None)\n",
    "X = df.iloc[:,:-1].to_numpy()\n",
    "y = df.iloc[:,[-1]].to_numpy()\n",
    "data = np.concatenate((np.ones(y.shape),X),axis=1)\n",
    "data.shape"
   ]
  },
  {
   "cell_type": "code",
   "execution_count": 78,
   "metadata": {
    "id": "PpBoTRPs5dDI"
   },
   "outputs": [],
   "source": [
    "class Linear_Regression:\n",
    "\n",
    "    def cost(target_label,predicted_label,m,batch_size,batch_number):\n",
    "        error_vector = predicted_label.T - target_label[batch_number:batch_number+batch_size]\n",
    "        cost = (np.linalg.norm(error_vector) ** 2) / (batch_size*2)\n",
    "        return cost,error_vector\n",
    "    def gradient_1(error_vector,data,m,batch_size,batch_number):\n",
    "        D_theta = (error_vector.T@data[batch_number:batch_number+batch_size]) / batch_size\n",
    "        return D_theta.T\n",
    "    def gradient_2(data, target_label):\n",
    "  \n",
    "        m = len(target_label)\n",
    "        D_theta_2 = (data.T@data)/m\n",
    "        return D_theta_2"
   ]
  },
  {
   "cell_type": "code",
   "execution_count": 79,
   "metadata": {
    "id": "AECF1SHrBaVq"
   },
   "outputs": [],
   "source": [
    "\n",
    "\n",
    "class SGD:\n",
    "\n",
    "    def __init__(self,data,target_label,function,first_derivative,batch_size,\n",
    "    learning_rate = 0.0005,max_iterations = 300, \n",
    "    stop_criteria = 0.001,convergance_criteria = 0.001) -> None:\n",
    "\n",
    "        self.data = data \n",
    "        self.target_label = target_label\n",
    "        self.function = function\n",
    "        self.first_derivative = first_derivative\n",
    "        self.batch_size = batch_size\n",
    "        self.learning_rate = learning_rate\n",
    "        self.max_iterations = max_iterations\n",
    "        self.stop_criteria = stop_criteria\n",
    "        self.convergance_criteria = convergance_criteria\n",
    "        self.costs = []\n",
    "    def Init_SGD(self,data,target_label):\n",
    "\n",
    "        m = self.data.shape[0]\n",
    "        n = self.data.shape[1] + 1\n",
    "        connected_array = np.concatenate((np.ones((m,1)),self.data,self.target_label), axis = 1)\n",
    "        np.random.shuffle(connected_array)\n",
    "        data = connected_array[:, :-1]\n",
    "        target_label = connected_array[:, [-1]]\n",
    "        return data,target_label,m,n\n",
    "    \n",
    "    def optimize(self):\n",
    "\n",
    "        self.data,self.target_label,m,n = self.Init_SGD(self.data,self.target_label)\n",
    "        c = ceil(m / self.batch_size)\n",
    "        theta = np.zeros((n,1))\n",
    "        for i in range(self.max_iterations):\n",
    "            for j in range(0,m,self.batch_size):\n",
    "                predicted_label = self.data[j:j+self.batch_size]@theta\n",
    "                predicted_label = predicted_label.T\n",
    "                cost,error_vector = self.function(self.target_label, predicted_label,m,self.batch_size,j)\n",
    "                self.costs.append(cost)\n",
    "                D_theta = self.first_derivative(error_vector,self.data,m,self.batch_size,j)\n",
    "\n",
    "                theta = theta - (self.learning_rate * D_theta)\n",
    "            if(np.linalg.norm(D_theta,2) < self.stop_criteria):break\n",
    "            if(i > 0):\n",
    "                if (abs(self.costs[i * c] - self.costs[(i-1) * c]) < self.convergance_criteria):break\n",
    "        return theta\n",
    "    \n",
    "    def loss_vs_epochs(self):\n",
    "        plt.figure(figsize=(10,8))\n",
    "        plt.grid()\n",
    "        plt.plot(range(len(self.costs)),self.costs)\n",
    "        plt.scatter(range(len(self.costs)),self.costs)"
   ]
  },
  {
   "cell_type": "code",
   "execution_count": 81,
   "metadata": {
    "colab": {
     "base_uri": "https://localhost:8080/"
    },
    "id": "mTXfPV_vBhS8",
    "outputId": "e6fad57b-e513-4ee6-bc76-7b7e0f2b38d5"
   },
   "outputs": [
    {
     "data": {
      "text/plain": [
       "0.9857200176274099"
      ]
     },
     "execution_count": 81,
     "metadata": {},
     "output_type": "execute_result"
    }
   ],
   "source": [
    "from sklearn.metrics import r2_score\n",
    "opt = SGD(X,y,Linear_Regression.cost,Linear_Regression.gradient_1,X.shape[0],0.0001)\n",
    "theta = opt.optimize()\n",
    "r2_score(y,data@theta)"
   ]
  },
  {
   "cell_type": "code",
   "execution_count": null,
   "metadata": {
    "colab": {
     "base_uri": "https://localhost:8080/",
     "height": 483
    },
    "id": "prWYS0hAB6DS",
    "outputId": "7ff64e8c-caf6-40eb-a006-d6275975e6ca"
   },
   "outputs": [
    {
     "data": {
      "image/png": "[encoded data removed]",
      "text/plain": [
       "<Figure size 720x576 with 1 Axes>"
      ]
     },
     "metadata": {
      "needs_background": "light"
     },
     "output_type": "display_data"
    }
   ],
   "source": [
    "opt.loss_vs_epochs()"
   ]
  },
  {
   "cell_type": "code",
   "execution_count": 82,
   "metadata": {
    "id": "4ga179B0Cocg"
   },
   "outputs": [],
   "source": [
    "import numpy as np\n",
    "import matplotlib.pyplot as plt\n",
    "from math import ceil\n",
    "class SGD_with_Momentum:\n",
    "\n",
    "    def __init__(self,data,target_label,function,first_derivative,batch_size,\n",
    "    learning_rate = 0.0005,gamma = 0.9,max_iterations = 300, \n",
    "    stop_criteria = 0.001,convergance_criteria = 0.001) -> None:\n",
    "\n",
    "        self.data = data \n",
    "        self.target_label = target_label\n",
    "        self.function = function\n",
    "        self.first_derivative = first_derivative\n",
    "        self.batch_size = batch_size\n",
    "        self.learning_rate = learning_rate\n",
    "        self.max_iterations = max_iterations\n",
    "        self.stop_criteria = stop_criteria\n",
    "        self.convergance_criteria = convergance_criteria\n",
    "        self.gamma = gamma\n",
    "        self.costs = []\n",
    "    def Init_SGD(self,data,target_label):\n",
    "\n",
    "        m = self.data.shape[0]\n",
    "        n = self.data.shape[1] + 1\n",
    "        connected_array = np.concatenate((np.ones((m,1)),self.data,self.target_label), axis = 1)\n",
    "        np.random.shuffle(connected_array)\n",
    "        data = connected_array[:, :-1]\n",
    "        target_label = connected_array[:, [-1]]\n",
    "        return data,target_label,m,n\n",
    "    \n",
    "    def optimize(self):\n",
    "\n",
    "        self.data,self.target_label,m,n = self.Init_SGD(self.data,self.target_label)\n",
    "        c = ceil(m / self.batch_size)\n",
    "        theta = np.zeros((n,1))\n",
    "        v = np.zeros((n,1))\n",
    "        for i in range(self.max_iterations):\n",
    "            for j in range(0,m,self.batch_size):\n",
    "                predicted_label = self.data[j:j+self.batch_size]@theta\n",
    "                predicted_label = predicted_label.T\n",
    "                cost,error_vector = self.function(self.target_label, predicted_label,m,self.batch_size,j)\n",
    "                self.costs.append(cost)\n",
    "                D_theta = self.first_derivative(error_vector,self.data,m,self.batch_size,j)\n",
    "                v = self.gamma * v + self.learning_rate * D_theta\n",
    "                theta = theta - v\n",
    "            if(np.linalg.norm(D_theta,2) < self.stop_criteria):break\n",
    "            if(i > 0):\n",
    "                if (abs(self.costs[i * c] - self.costs[(i-1) * c]) < self.convergance_criteria):break\n",
    "        return theta\n",
    "    \n",
    "    def loss_vs_epochs(self):\n",
    "        plt.figure(figsize=(10,8))\n",
    "        plt.grid()\n",
    "        plt.plot(range(len(self.costs)),self.costs)\n",
    "        plt.scatter(range(len(self.costs)),self.costs)\n",
    "\n",
    "\n",
    "class Linear_Regression:\n",
    "\n",
    "    def cost(target_label,predicted_label,m,batch_size,batch_number):\n",
    "        error_vector = predicted_label.T - target_label[batch_number:batch_number+batch_size]\n",
    "        cost = (np.linalg.norm(error_vector) ** 2) / (batch_size*2)\n",
    "        return cost,error_vector\n",
    "    def gradient_1(error_vector,data,m,batch_size,batch_number):\n",
    "        D_theta = (error_vector.T@data[batch_number:batch_number+batch_size]) / batch_size\n",
    "        return D_theta.T\n",
    "\n"
   ]
  },
  {
   "cell_type": "code",
   "execution_count": 85,
   "metadata": {
    "colab": {
     "base_uri": "https://localhost:8080/"
    },
    "id": "VERB4SlSDkQ7",
    "outputId": "b2931a26-3ec3-43df-8b66-6353a1c4b9fd"
   },
   "outputs": [
    {
     "data": {
      "text/plain": [
       "98.90105916907163"
      ]
     },
     "execution_count": 85,
     "metadata": {},
     "output_type": "execute_result"
    }
   ],
   "source": [
    "\n",
    "opt = SGD_with_Momentum(X,y,Linear_Regression.cost,Linear_Regression.gradient_1,X.shape[0],0.0001,0.95)\n",
    "theta = opt.optimize()\n",
    "r2_score(y,data@theta) * 100"
   ]
  },
  {
   "cell_type": "code",
   "execution_count": 86,
   "metadata": {
    "colab": {
     "base_uri": "https://localhost:8080/",
     "height": 485
    },
    "id": "0Iz3PK_4D1zc",
    "outputId": "0162f3de-17fe-46d2-a5a6-e32c5a89009c"
   },
   "outputs": [
    {
     "data": {
      "image/png": "[encoded data removed]",
      "text/plain": [
       "<Figure size 720x576 with 1 Axes>"
      ]
     },
     "metadata": {
      "needs_background": "light"
     },
     "output_type": "display_data"
    }
   ],
   "source": [
    "opt.loss_vs_epochs()"
   ]
  },
  {
   "cell_type": "code",
   "execution_count": 87,
   "metadata": {
    "id": "Gxj_6hjND6Nw"
   },
   "outputs": [],
   "source": [
    "import numpy as np\n",
    "import matplotlib.pyplot as plt\n",
    "from math import ceil\n",
    "class SGD_with_NAG:\n",
    "\n",
    "    def __init__(self,data,target_label,function,first_derivative,batch_size,\n",
    "    learning_rate = 0.0005,gamma = 0.9,max_iterations = 300, \n",
    "    stop_criteria = 0.001,convergance_criteria = 0.001) -> None:\n",
    "\n",
    "        self.data = data \n",
    "        self.target_label = target_label\n",
    "        self.function = function\n",
    "        self.first_derivative = first_derivative\n",
    "        self.batch_size = batch_size\n",
    "        self.learning_rate = learning_rate\n",
    "        self.max_iterations = max_iterations\n",
    "        self.stop_criteria = stop_criteria\n",
    "        self.convergance_criteria = convergance_criteria\n",
    "        self.gamma = gamma\n",
    "        self.costs = []\n",
    "    def Init_SGD(self,data,target_label):\n",
    "\n",
    "        m = self.data.shape[0]\n",
    "        n = self.data.shape[1] + 1\n",
    "        connected_array = np.concatenate((np.ones((m,1)),self.data,self.target_label), axis = 1)\n",
    "        np.random.shuffle(connected_array)\n",
    "        data = connected_array[:, :-1]\n",
    "        target_label = connected_array[:, [-1]]\n",
    "        return data,target_label,m,n\n",
    "    \n",
    "    def optimize(self):\n",
    "\n",
    "        self.data,self.target_label,m,n = self.Init_SGD(self.data,self.target_label)\n",
    "        c = ceil(m / self.batch_size)\n",
    "        theta = np.zeros((n,1))\n",
    "        v = np.zeros((n,1))\n",
    "        for i in range(self.max_iterations):\n",
    "            for j in range(0,m,self.batch_size):\n",
    "                theta_temp = theta - self.gamma * v\n",
    "                predicted_label = self.data[j:j+self.batch_size]@theta_temp\n",
    "                predicted_label = predicted_label.T\n",
    "                cost,error_vector = self.function(self.target_label, predicted_label,m,self.batch_size,j)\n",
    "                self.costs.append(cost)\n",
    "                D_theta_temp = self.first_derivative(error_vector,self.data,m,self.batch_size,j)\n",
    "                theta =  theta - (self.learning_rate*D_theta_temp)\n",
    "                v = self.gamma * v + (self.learning_rate*D_theta_temp)\n",
    "            if(np.linalg.norm(D_theta_temp,2) < self.stop_criteria):break\n",
    "            if(i > 0):\n",
    "                if (abs(self.costs[i * c] - self.costs[(i-1) * c]) < self.convergance_criteria):break\n",
    "        return theta\n",
    "    \n",
    "    def loss_vs_epochs(self):\n",
    "        plt.figure(figsize=(10,8))\n",
    "        plt.grid()\n",
    "        plt.plot(range(len(self.costs)),self.costs)\n",
    "        plt.scatter(range(len(self.costs)),self.costs)\n",
    "\n",
    "\n",
    "class Linear_Regression:\n",
    "\n",
    "    def cost(target_label,predicted_label,m,batch_size,batch_number):\n",
    "        error_vector = predicted_label.T - target_label[batch_number:batch_number+batch_size]\n",
    "        cost = (np.linalg.norm(error_vector) ** 2) / (batch_size*2)\n",
    "        return cost,error_vector\n",
    "    def gradient_1(error_vector,data,m,batch_size,batch_number):\n",
    "        D_theta = (error_vector.T@data[batch_number:batch_number+batch_size]) / batch_size\n",
    "        return D_theta.T\n"
   ]
  },
  {
   "cell_type": "code",
   "execution_count": 109,
   "metadata": {
    "colab": {
     "base_uri": "https://localhost:8080/"
    },
    "id": "fLbUgQncEMgL",
    "outputId": "cd12d4ec-66ab-463a-c31d-0bbf817806b9"
   },
   "outputs": [
    {
     "data": {
      "text/plain": [
       "0.9797139394576737"
      ]
     },
     "execution_count": 109,
     "metadata": {},
     "output_type": "execute_result"
    }
   ],
   "source": [
    "opt = SGD_with_NAG(X,y,Linear_Regression.cost,Linear_Regression.gradient_1,X.shape[0],0.00001,0.1)\n",
    "theta = opt.optimize()\n",
    "r2_score(y,data@theta)"
   ]
  },
  {
   "cell_type": "code",
   "execution_count": 110,
   "metadata": {
    "colab": {
     "base_uri": "https://localhost:8080/",
     "height": 485
    },
    "id": "ohsbgIsDEVmS",
    "outputId": "ee2f276d-8fef-4e12-8768-73b352c20e52"
   },
   "outputs": [
    {
     "data": {
      "image/png": "[encoded data removed]",
      "text/plain": [
       "<Figure size 720x576 with 1 Axes>"
      ]
     },
     "metadata": {
      "needs_background": "light"
     },
     "output_type": "display_data"
    }
   ],
   "source": [
    "opt.loss_vs_epochs()"
   ]
  },
  {
   "cell_type": "code",
   "execution_count": 111,
   "metadata": {
    "id": "Ibkc0bLtEnzX"
   },
   "outputs": [],
   "source": [
    "import numpy as np\n",
    "import matplotlib.pyplot as plt\n",
    "from math import ceil\n",
    "class SGD_with_AdaGrad:\n",
    "\n",
    "    def __init__(self,data,target_label,function,first_derivative,batch_size,\n",
    "    learning_rate = 0.0005,epsilon = 1e-8,max_iterations = 300, \n",
    "    stop_criteria = 0.001,convergance_criteria = 0.001) -> None:\n",
    "\n",
    "        self.data = data \n",
    "        self.target_label = target_label\n",
    "        self.function = function\n",
    "        self.first_derivative = first_derivative\n",
    "        self.batch_size = batch_size\n",
    "        self.learning_rate = learning_rate\n",
    "        self.max_iterations = max_iterations\n",
    "        self.stop_criteria = stop_criteria\n",
    "        self.convergance_criteria = convergance_criteria\n",
    "        self.epsilon = epsilon\n",
    "        self.costs = []\n",
    "    def Init_SGD(self,data,target_label):\n",
    "\n",
    "        m = self.data.shape[0]\n",
    "        n = self.data.shape[1] + 1\n",
    "        connected_array = np.concatenate((np.ones((m,1)),self.data,self.target_label), axis = 1)\n",
    "        np.random.shuffle(connected_array)\n",
    "        data = connected_array[:, :-1]\n",
    "        target_label = connected_array[:, [-1]]\n",
    "        return data,target_label,m,n\n",
    "    \n",
    "    def optimize(self):\n",
    "\n",
    "        self.data,self.target_label,m,n = self.Init_SGD(self.data,self.target_label)\n",
    "        c = ceil(m / self.batch_size)\n",
    "        theta = np.zeros((n,1))\n",
    "        v = np.zeros((n,1))\n",
    "        for i in range(self.max_iterations):\n",
    "            for j in range(0,m,self.batch_size):\n",
    "                predicted_label = self.data[j:j+self.batch_size]@theta\n",
    "                predicted_label = predicted_label.T\n",
    "                cost,error_vector = self.function(self.target_label, predicted_label,m,self.batch_size,j)\n",
    "                self.costs.append(cost)\n",
    "                D_theta = self.first_derivative(error_vector,self.data,m,self.batch_size,j)\n",
    "                v = v + D_theta ** 2\n",
    "                theta = theta - ((self.learning_rate / (np.sqrt(v) + self.epsilon)) * D_theta)\n",
    "            if(np.linalg.norm(D_theta,2) < self.stop_criteria):break\n",
    "            if(i > 0):\n",
    "                if (abs(self.costs[i * c] - self.costs[(i-1) * c]) < self.convergance_criteria):break\n",
    "        return theta\n",
    "    \n",
    "    def loss_vs_epochs(self):\n",
    "        plt.figure(figsize=(10,8))\n",
    "        plt.grid()\n",
    "        plt.plot(range(len(self.costs)),self.costs)\n",
    "        plt.scatter(range(len(self.costs)),self.costs)\n",
    "\n",
    "\n",
    "class Linear_Regression:\n",
    "\n",
    "    def cost(target_label,predicted_label,m,batch_size,batch_number):\n",
    "        error_vector = predicted_label.T - target_label[batch_number:batch_number+batch_size]\n",
    "        cost = (np.linalg.norm(error_vector) ** 2) / (batch_size*2)\n",
    "        return cost,error_vector\n",
    "    def gradient_1(error_vector,data,m,batch_size,batch_number):\n",
    "        D_theta = (error_vector.T@data[batch_number:batch_number+batch_size]) / batch_size\n",
    "        return D_theta.T\n",
    "\n"
   ]
  },
  {
   "cell_type": "code",
   "execution_count": 114,
   "metadata": {
    "colab": {
     "base_uri": "https://localhost:8080/"
    },
    "id": "JWMTEPGlFwO7",
    "outputId": "27be2f5b-e1a4-43db-ee49-a87ae7391561"
   },
   "outputs": [
    {
     "data": {
      "text/plain": [
       "0.9830042452013373"
      ]
     },
     "execution_count": 114,
     "metadata": {},
     "output_type": "execute_result"
    }
   ],
   "source": [
    "opt = SGD_with_AdaGrad(X,y,Linear_Regression.cost,Linear_Regression.gradient_1,X.shape[0],0.7,1e-10)\n",
    "theta = opt.optimize()\n",
    "r2_score(y,data@theta)"
   ]
  },
  {
   "cell_type": "code",
   "execution_count": 115,
   "metadata": {
    "colab": {
     "base_uri": "https://localhost:8080/",
     "height": 485
    },
    "id": "I9ZGxSXHF_tP",
    "outputId": "60e5a11f-4d32-46d7-c2d4-102435689b00"
   },
   "outputs": [
    {
     "data": {
      "image/png": "[encoded data removed]",
      "text/plain": [
       "<Figure size 720x576 with 1 Axes>"
      ]
     },
     "metadata": {
      "needs_background": "light"
     },
     "output_type": "display_data"
    }
   ],
   "source": [
    "opt.loss_vs_epochs()"
   ]
  },
  {
   "cell_type": "code",
   "execution_count": 117,
   "metadata": {
    "id": "NItmxWg9GHAq"
   },
   "outputs": [],
   "source": [
    "import numpy as np\n",
    "import matplotlib.pyplot as plt\n",
    "from math import ceil\n",
    "class SGD_with_RMSProb:\n",
    "\n",
    "    def __init__(self,data,target_label,function,first_derivative,batch_size,\n",
    "    learning_rate = 0.0005,beta = 0.9,epsilon = 1e-8,max_iterations = 300, \n",
    "    stop_criteria = 0.001,convergance_criteria = 0.001) -> None:\n",
    "\n",
    "        self.data = data \n",
    "        self.target_label = target_label\n",
    "        self.function = function\n",
    "        self.first_derivative = first_derivative\n",
    "        self.batch_size = batch_size\n",
    "        self.learning_rate = learning_rate\n",
    "        self.max_iterations = max_iterations\n",
    "        self.stop_criteria = stop_criteria\n",
    "        self.convergance_criteria = convergance_criteria\n",
    "        self.epsilon = epsilon\n",
    "        self.beta = beta\n",
    "        self.costs = []\n",
    "    def Init_SGD(self,data,target_label):\n",
    "\n",
    "        m = self.data.shape[0]\n",
    "        n = self.data.shape[1] + 1\n",
    "        connected_array = np.concatenate((np.ones((m,1)),self.data,self.target_label), axis = 1)\n",
    "        np.random.shuffle(connected_array)\n",
    "        data = connected_array[:, :-1]\n",
    "        target_label = connected_array[:, [-1]]\n",
    "        return data,target_label,m,n\n",
    "    \n",
    "    def optimize(self):\n",
    "\n",
    "        self.data,self.target_label,m,n = self.Init_SGD(self.data,self.target_label)\n",
    "        c = ceil(m / self.batch_size)\n",
    "        theta = np.zeros((n,1))\n",
    "        v = np.zeros((n,1))\n",
    "        for i in range(self.max_iterations):\n",
    "            for j in range(0,m,self.batch_size):\n",
    "                predicted_label = self.data[j:j+self.batch_size]@theta\n",
    "                predicted_label = predicted_label.T\n",
    "                cost,error_vector = self.function(self.target_label, predicted_label,m,self.batch_size,j)\n",
    "                self.costs.append(cost)\n",
    "                D_theta = self.first_derivative(error_vector,self.data,m,self.batch_size,j)\n",
    "                v = self.beta * v + (1-self.beta)*D_theta ** 2\n",
    "                theta = theta - ((self.learning_rate / (np.sqrt(v) + self.epsilon)) * D_theta)\n",
    "            if(np.linalg.norm(D_theta,2) < self.stop_criteria):break\n",
    "            if(i > 0):\n",
    "                if (abs(self.costs[i * c] - self.costs[(i-1) * c]) < self.convergance_criteria):break\n",
    "        return theta\n",
    "    \n",
    "    def loss_vs_epochs(self):\n",
    "        plt.figure(figsize=(10,8))\n",
    "        plt.grid()\n",
    "        plt.plot(range(len(self.costs)),self.costs)\n",
    "        plt.scatter(range(len(self.costs)),self.costs)\n",
    "\n",
    "\n",
    "class Linear_Regression:\n",
    "\n",
    "    def cost(target_label,predicted_label,m,batch_size,batch_number):\n",
    "        error_vector = predicted_label.T - target_label[batch_number:batch_number+batch_size]\n",
    "        cost = (np.linalg.norm(error_vector) ** 2) / (batch_size*2)\n",
    "        return cost,error_vector\n",
    "    def gradient_1(error_vector,data,m,batch_size,batch_number):\n",
    "        D_theta = (error_vector.T@data[batch_number:batch_number+batch_size]) / batch_size\n",
    "        return D_theta.T"
   ]
  },
  {
   "cell_type": "code",
   "execution_count": 120,
   "metadata": {
    "colab": {
     "base_uri": "https://localhost:8080/"
    },
    "id": "x0eQ9cmfGcBe",
    "outputId": "82d9b7c5-146f-4b2c-90d7-be074629aa95"
   },
   "outputs": [
    {
     "data": {
      "text/plain": [
       "98.1345289139525"
      ]
     },
     "execution_count": 120,
     "metadata": {},
     "output_type": "execute_result"
    }
   ],
   "source": [
    "opt = SGD_with_RMSProb(X,y,Linear_Regression.cost,Linear_Regression.gradient_1,X.shape[0],0.005,0.5)\n",
    "theta = opt.optimize()\n",
    "r2_score(y,data@theta) * 100"
   ]
  },
  {
   "cell_type": "code",
   "execution_count": 121,
   "metadata": {
    "colab": {
     "base_uri": "https://localhost:8080/",
     "height": 485
    },
    "id": "XREbcsA-GqvX",
    "outputId": "45dd4522-1e1d-412b-fdeb-6b79e5103fd5"
   },
   "outputs": [
    {
     "data": {
      "image/png": "[encoded data removed]",
      "text/plain": [
       "<Figure size 720x576 with 1 Axes>"
      ]
     },
     "metadata": {
      "needs_background": "light"
     },
     "output_type": "display_data"
    }
   ],
   "source": [
    "opt.loss_vs_epochs()"
   ]
  },
  {
   "cell_type": "code",
   "execution_count": 122,
   "metadata": {
    "id": "zIBRRnvJGxOj"
   },
   "outputs": [],
   "source": [
    "import numpy as np\n",
    "import matplotlib.pyplot as plt\n",
    "from math import ceil\n",
    "class SGD_with_Adam:\n",
    "\n",
    "    def __init__(self,data,target_label,function,first_derivative,batch_size,\n",
    "    learning_rate = 0.0005,beta1 = 0.9,beta2 = 0.1,epsilon = 1e-8,max_iterations = 300, \n",
    "    stop_criteria = 0.001,convergance_criteria = 0.001) -> None:\n",
    "\n",
    "        self.data = data \n",
    "        self.target_label = target_label\n",
    "        self.function = function\n",
    "        self.first_derivative = first_derivative\n",
    "        self.batch_size = batch_size\n",
    "        self.learning_rate = learning_rate\n",
    "        self.max_iterations = max_iterations\n",
    "        self.stop_criteria = stop_criteria\n",
    "        self.convergance_criteria = convergance_criteria\n",
    "        self.epsilon = epsilon\n",
    "        self.beta1 = beta1\n",
    "        self.beta2 = beta2\n",
    "        self.costs = []\n",
    "    def Init_SGD(self,data,target_label):\n",
    "\n",
    "        m = self.data.shape[0]\n",
    "        n = self.data.shape[1] + 1\n",
    "        connected_array = np.concatenate((np.ones((m,1)),self.data,self.target_label), axis = 1)\n",
    "        np.random.shuffle(connected_array)\n",
    "        data = connected_array[:, :-1]\n",
    "        target_label = connected_array[:, [-1]]\n",
    "        return data,target_label,int(m),int(n)\n",
    "    \n",
    "    def optimize(self):\n",
    "\n",
    "        self.data,self.target_label,m,n = self.Init_SGD(self.data,self.target_label)\n",
    "        c = ceil(m / self.batch_size)\n",
    "        theta = np.zeros((n,1))\n",
    "        v = np.zeros((n,1))\n",
    "        mt = np.zeros((n,1))\n",
    "        for i in range(self.max_iterations):\n",
    "            for j in range(0,m,self.batch_size):\n",
    "                predicted_label = self.data[j:j+self.batch_size]@theta\n",
    "                predicted_label = predicted_label.T\n",
    "                cost,error_vector = self.function(self.target_label, predicted_label,m,self.batch_size,j)\n",
    "                self.costs.append(cost)\n",
    "                D_theta = self.first_derivative(error_vector,self.data,m,self.batch_size,j)\n",
    "                mt = self.beta1 * mt + ((1 - self.beta1) * D_theta)\n",
    "                v = self.beta2 * v + (1 - self.beta2) * D_theta ** 2\n",
    "                mt = mt / (1-(self.beta1**(i+1)))\n",
    "                v = v / (1-(self.beta2**(i+1)))\n",
    "                theta = theta - ((self.learning_rate / (np.sqrt(v) + self.epsilon)) * mt)\n",
    "            if(np.linalg.norm(D_theta,2) < self.stop_criteria):break\n",
    "            if(i > 0):\n",
    "                if (abs(self.costs[i * c] - self.costs[(i-1) * c]) < self.convergance_criteria):break\n",
    "        return theta\n",
    "    \n",
    "    def loss_vs_epochs(self):\n",
    "        plt.figure(figsize=(10,8))\n",
    "        plt.grid()\n",
    "        plt.plot(range(len(self.costs)),self.costs)\n",
    "        plt.scatter(range(len(self.costs)),self.costs)\n",
    "\n",
    "\n",
    "class Linear_Regression:\n",
    "\n",
    "    def cost(target_label,predicted_label,m,batch_size,batch_number):\n",
    "        error_vector = predicted_label.T - target_label[batch_number:batch_number+batch_size]\n",
    "        cost = (np.linalg.norm(error_vector) ** 2) / (batch_size*2)\n",
    "        return cost,error_vector\n",
    "    def gradient_1(error_vector,data,m,batch_size,batch_number):\n",
    "        D_theta = (error_vector.T@data[batch_number:batch_number+batch_size]) / batch_size\n",
    "        return D_theta.T"
   ]
  },
  {
   "cell_type": "code",
   "execution_count": 123,
   "metadata": {
    "colab": {
     "base_uri": "https://localhost:8080/"
    },
    "id": "fqAsWohTHPzG",
    "outputId": "37b391a7-9e85-4a97-fc1e-20ba7ee939cb"
   },
   "outputs": [
    {
     "data": {
      "text/plain": [
       "0.9782931498454546"
      ]
     },
     "execution_count": 123,
     "metadata": {},
     "output_type": "execute_result"
    }
   ],
   "source": [
    "opt = SGD_with_Adam(X,y,Linear_Regression.cost,Linear_Regression.gradient_1,X.shape[0],0.01,0.3,0.7)\n",
    "theta = opt.optimize()\n",
    "r2_score(y,data@theta)"
   ]
  },
  {
   "cell_type": "code",
   "execution_count": 124,
   "metadata": {
    "colab": {
     "base_uri": "https://localhost:8080/",
     "height": 485
    },
    "id": "gHHRW3cbHhly",
    "outputId": "83a7b012-c929-4e3a-d927-1514e6c59521"
   },
   "outputs": [
    {
     "data": {
      "image/png": "[encoded data removed]",
      "text/plain": [
       "<Figure size 720x576 with 1 Axes>"
      ]
     },
     "metadata": {
      "needs_background": "light"
     },
     "output_type": "display_data"
    }
   ],
   "source": [
    "opt.loss_vs_epochs()"
   ]
  },
  {
   "cell_type": "code",
   "execution_count": 155,
   "metadata": {
    "id": "yk0zg8bmH2bj"
   },
   "outputs": [],
   "source": [
    "import numpy as np\n",
    "import matplotlib.pyplot as plt\n",
    "class Newton_GD:\n",
    "  def __init__(self,data,target_label,first_derivative,second_derivative,\n",
    "    learning_rate = 1,epochs = 300, \n",
    "    stop_criteria = 0.001,convergance_criteria = 0.001) -> None:\n",
    "\n",
    "        self.data = data \n",
    "        self.target_label = target_label\n",
    "        self.first_derivative = first_derivative\n",
    "        self.second_derivative = second_derivative\n",
    "        self.learning_rate = learning_rate\n",
    "        self.epochs = epochs\n",
    "        self.stop_criteria = stop_criteria\n",
    "        self.convergance_criteria = convergance_criteria\n",
    "        self.costs = []\n",
    "  def optimize(self):\n",
    "    m = self.data.shape[0]\n",
    "    n = self.data.shape[1] + 1\n",
    "    self.data = np.concatenate((np.ones((m,1)),self.data), axis = 1)\n",
    "    grad = np.zeros((n,1))\n",
    "    theta = np.zeros((n,1))\n",
    "    for i in range(self.epochs):\n",
    "      theta = theta - (self.learning_rate * grad.T @ np.linalg.inv(self.second_derivative(self.data))).T\n",
    "      grad ,cost = self.first_derivative(self.data,self.target_label,theta)\n",
    "      self.costs.append(cost)\n",
    "      if(np.linalg.norm(grad) <= self.stop_criteria):return i,theta,grad\n",
    "      if(i > 0):\n",
    "        if (abs(self.costs[i] - self.costs[(i-1)]) < self.convergance_criteria):return i,theta,grad\n",
    "    return self.epochs,grad,theta\n",
    "  def loss_vs_epochs(self):\n",
    "        plt.figure(figsize=(10,8))\n",
    "        plt.grid()\n",
    "        plt.plot(range(len(self.costs)),self.costs)\n",
    "        plt.scatter(range(len(self.costs)),self.costs)\n",
    "\n",
    "class Linear_Regression:\n",
    "\n",
    "    def cost(target_label,predicted_label,m):\n",
    "        error_vector = predicted_label.T - target_label\n",
    "        cost = (np.linalg.norm(error_vector) ** 2) / (m*2)\n",
    "        return cost,error_vector\n",
    "    def gradient_1(data,target_label,theta):\n",
    "        m = data.shape[0]\n",
    "        predicted_label = data@theta\n",
    "  #predicted_label = predicted_label.T\n",
    "        error_vector = predicted_label - target_label\n",
    "        cost = (np.linalg.norm(error_vector) ** 2) / (m*2)\n",
    "        D_theta = (error_vector.T@data) / m\n",
    "        return D_theta.T,cost\n",
    "    def gradient_2(data):\n",
    "        m = data.shape[0]\n",
    "        D_theta_2 = data.T@data / m\n",
    "        return D_theta_2\n"
   ]
  },
  {
   "cell_type": "code",
   "execution_count": 156,
   "metadata": {
    "colab": {
     "base_uri": "https://localhost:8080/",
     "height": 276
    },
    "id": "xyfgHQsoIINV",
    "outputId": "39e7a30e-a10c-4cf3-bf3d-6c7661860675"
   },
   "outputs": [
    {
     "name": "stdout",
     "output_type": "stream",
     "text": [
      "[[ 5.18590723e+01  2.36818452e-04 -1.45540244e-01 -4.82452772e-01]\n",
      " [ 2.36818452e-04  5.39300983e-02 -2.72181809e-02 -2.57679280e-02]\n",
      " [-1.45540244e-01 -2.72181809e-02  3.72237818e-02 -8.12077712e-03]\n",
      " [-4.82452772e-01 -2.57679280e-02 -8.12077712e-03  3.88388460e-02]]\n"
     ]
    },
    {
     "ename": "TypeError",
     "evalue": "ignored",
     "output_type": "error",
     "traceback": [
      "\u001b[0;31m---------------------------------------------------------------------------\u001b[0m",
      "\u001b[0;31mTypeError\u001b[0m                                 Traceback (most recent call last)",
      "\u001b[0;32m<ipython-input-156-1dcdf68cccbd>\u001b[0m in \u001b[0;36m<module>\u001b[0;34m\u001b[0m\n\u001b[1;32m      1\u001b[0m \u001b[0mopt\u001b[0m \u001b[0;34m=\u001b[0m \u001b[0mNewton_GD\u001b[0m\u001b[0;34m(\u001b[0m\u001b[0mX\u001b[0m\u001b[0;34m,\u001b[0m\u001b[0my\u001b[0m\u001b[0;34m,\u001b[0m\u001b[0mLinear_Regression\u001b[0m\u001b[0;34m.\u001b[0m\u001b[0mgradient_1\u001b[0m\u001b[0;34m,\u001b[0m\u001b[0mLinear_Regression\u001b[0m\u001b[0;34m.\u001b[0m\u001b[0mgradient_2\u001b[0m\u001b[0;34m)\u001b[0m\u001b[0;34m\u001b[0m\u001b[0;34m\u001b[0m\u001b[0m\n\u001b[0;32m----> 2\u001b[0;31m \u001b[0mi\u001b[0m\u001b[0;34m,\u001b[0m\u001b[0mtheta\u001b[0m\u001b[0;34m,\u001b[0m\u001b[0mgrad\u001b[0m \u001b[0;34m=\u001b[0m \u001b[0mopt\u001b[0m\u001b[0;34m.\u001b[0m\u001b[0moptimize\u001b[0m\u001b[0;34m(\u001b[0m\u001b[0;34m)\u001b[0m\u001b[0;34m\u001b[0m\u001b[0;34m\u001b[0m\u001b[0m\n\u001b[0m\u001b[1;32m      3\u001b[0m \u001b[0mr2_score\u001b[0m\u001b[0;34m(\u001b[0m\u001b[0my\u001b[0m\u001b[0;34m,\u001b[0m\u001b[0mdata\u001b[0m\u001b[0;34m@\u001b[0m\u001b[0mtheta\u001b[0m\u001b[0;34m)\u001b[0m\u001b[0;34m\u001b[0m\u001b[0;34m\u001b[0m\u001b[0m\n",
      "\u001b[0;31mTypeError\u001b[0m: cannot unpack non-iterable NoneType object"
     ]
    }
   ],
   "source": [
    "opt = Newton_GD(X,y,Linear_Regression.gradient_1,Linear_Regression.gradient_2,)\n",
    "i,theta,grad = opt.optimize()\n",
    "r2_score(y,data@theta)"
   ]
  },
  {
   "cell_type": "code",
   "execution_count": 141,
   "metadata": {
    "colab": {
     "base_uri": "https://localhost:8080/",
     "height": 485
    },
    "id": "AZhVBdY7IiM7",
    "outputId": "5cef55f4-394f-43b8-d8d3-7d418f15e8a6"
   },
   "outputs": [
    {
     "data": {
      "image/png": "[encoded data removed]",
      "text/plain": [
       "<Figure size 720x576 with 1 Axes>"
      ]
     },
     "metadata": {
      "needs_background": "light"
     },
     "output_type": "display_data"
    }
   ],
   "source": [
    "opt.loss_vs_epochs()"
   ]
  },
  {
   "cell_type": "code",
   "execution_count": 128,
   "metadata": {
    "id": "bdktqnxBI6NU"
   },
   "outputs": [],
   "source": [
    "import numpy as np\n",
    "import matplotlib.pyplot as plt\n",
    "class BFGS:\n",
    "  \n",
    "  def __init__(self,data,target_label,first_derivative,\n",
    "    learning_rate = 1,epochs = 300, \n",
    "    stop_criteria = 0.001,convergance_criteria = 0.001) -> None:\n",
    "\n",
    "        self.data = data \n",
    "        self.target_label = target_label\n",
    "        self.first_derivative = first_derivative\n",
    "        self.learning_rate = learning_rate\n",
    "        self.epochs = epochs\n",
    "        self.stop_criteria = stop_criteria\n",
    "        self.convergance_criteria = convergance_criteria\n",
    "        self.costs = []\n",
    "  \n",
    "  def optimize(self):\n",
    "    m = self.data.shape[0]\n",
    "    n = self.data.shape[1] + 1\n",
    "    self.data = np.concatenate((np.ones((m,1)),self.data), axis = 1)\n",
    "    current_theta = np.zeros((n,1))\n",
    "    previous_theta = 0.1 * np.ones((n,1))\n",
    "    current_grad,_ = self.first_derivative(self.data,self.target_label,current_theta)\n",
    "    previous_grad,__ = self.first_derivative(self.data,self.target_label,previous_theta)\n",
    "    i = 0\n",
    "    B_inv = np.eye(n)\n",
    "\n",
    "    while(i < self.epochs and np.linalg.norm(current_grad) >= self.stop_criteria and abs(_ - __) >= self.convergance_criteria):\n",
    "        self.costs.append(_)\n",
    "        delta_theta = current_theta - previous_theta\n",
    "        delta_grad = current_grad - previous_grad\n",
    "        delta_grad = delta_grad.T\n",
    "        B_inv = (np.eye(n) - (delta_theta@delta_grad)/(delta_grad@delta_theta))@B_inv@((np.eye(n) - (delta_grad.T@delta_theta.T)/(delta_grad@delta_theta))) +((delta_theta@delta_theta.T)/(delta_grad@delta_theta))\n",
    "        previous_theta = current_theta\n",
    "        current_theta = current_theta - self.learning_rate*(B_inv@current_grad)\n",
    "        current_grad,_ = self.first_derivative(self.data,self.target_label,current_theta)\n",
    "        previous_grad,__ = self.first_derivative(self.data,self.target_label,previous_theta)\n",
    "        i += 1\n",
    "    return i,current_theta,current_grad\n",
    "  def loss_vs_epochs(self):\n",
    "    plt.figure(figsize=(10,8))\n",
    "    plt.grid()\n",
    "    plt.plot(range(len(self.costs)),self.costs)\n",
    "    plt.scatter(range(len(self.costs)),self.costs)\n",
    "\n",
    "class Linear_Regression:\n",
    "\n",
    "    def cost(target_label,predicted_label,m):\n",
    "        error_vector = predicted_label.T - target_label\n",
    "        cost = (np.linalg.norm(error_vector) ** 2) / (m*2)\n",
    "        return cost,error_vector\n",
    "    def gradient_1(data,target_label,theta):\n",
    "        m = data.shape[0]\n",
    "        predicted_label = data@theta\n",
    "  #predicted_label = predicted_label.T\n",
    "        error_vector = predicted_label - target_label\n",
    "        cost = (np.linalg.norm(error_vector) ** 2) / (m*2)\n",
    "        D_theta = (error_vector.T@data) / m\n",
    "        return D_theta.T,cost\n",
    "    def gradient_2(data):\n",
    "        m = data.shape[0]\n",
    "        D_theta_2 = data.T@data / m\n",
    "        return D_theta_2\n",
    "\n"
   ]
  },
  {
   "cell_type": "code",
   "execution_count": 129,
   "metadata": {
    "colab": {
     "base_uri": "https://localhost:8080/"
    },
    "id": "1B4yfRzJJFKZ",
    "outputId": "1ac776ff-259c-4fb9-9083-530a34f128d8"
   },
   "outputs": [
    {
     "data": {
      "text/plain": [
       "0.9896615774278573"
      ]
     },
     "execution_count": 129,
     "metadata": {},
     "output_type": "execute_result"
    }
   ],
   "source": [
    "opt = BFGS(X,y,Linear_Regression.gradient_1,)\n",
    "i,theta,grad = opt.optimize()\n",
    "r2_score(y,data@theta)"
   ]
  },
  {
   "cell_type": "code",
   "execution_count": 130,
   "metadata": {
    "colab": {
     "base_uri": "https://localhost:8080/",
     "height": 483
    },
    "id": "JkDgarw7JS9_",
    "outputId": "a2d36ac7-c751-4d65-8feb-c6069b733d9d"
   },
   "outputs": [
    {
     "data": {
      "image/png": "[encoded data removed]",
      "text/plain": [
       "<Figure size 720x576 with 1 Axes>"
      ]
     },
     "metadata": {
      "needs_background": "light"
     },
     "output_type": "display_data"
    }
   ],
   "source": [
    "opt.loss_vs_epochs()"
   ]
  },
  {
   "cell_type": "code",
   "execution_count": 160,
   "metadata": {
    "id": "1koQVVeiJVjO"
   },
   "outputs": [],
   "source": [
    "import numpy as np\n",
    "import matplotlib.pyplot as plt\n",
    "class SGD_with_Newton:\n",
    "  def __init__(self,data,target_label,first_derivative,second_derivative,\n",
    "    learning_rate = 1,epochs = 300,batch_size = 32, \n",
    "    stop_criteria = 0.001,convergance_criteria = 0.001) -> None:\n",
    "\n",
    "        self.data = data \n",
    "        self.target_label = target_label\n",
    "        self.first_derivative = first_derivative\n",
    "        self.second_derivative = second_derivative\n",
    "        self.learning_rate = learning_rate\n",
    "        self.batch_size = batch_size\n",
    "        self.epochs = epochs\n",
    "        self.stop_criteria = stop_criteria\n",
    "        self.convergance_criteria = convergance_criteria\n",
    "        self.costs = []\n",
    "  def optimize(self):\n",
    "    m = self.data.shape[0]\n",
    "    n = self.data.shape[1] + 1\n",
    "    self.data = np.concatenate((np.ones((m,1)),self.data), axis = 1)\n",
    "    grad = np.zeros((n,1))\n",
    "    theta = np.zeros((n,1))\n",
    "    for i in range(self.epochs):\n",
    "      for j in range(0,m,self.batch_size):\n",
    "        theta = theta - (self.learning_rate * grad.T @ np.linalg.inv(self.second_derivative(self.data))).T\n",
    "        grad ,cost = self.first_derivative(self.data,self.target_label,theta,self.batch_size,j)\n",
    "        self.costs.append(cost)\n",
    "        if(np.linalg.norm(grad) <= self.stop_criteria):return i,theta,grad\n",
    "        if(i > 0):\n",
    "            if (abs(self.costs[i] - self.costs[(i-1)]) < self.convergance_criteria):return i,theta,grad\n",
    "    return self.epochs,grad,theta\n",
    "  def loss_vs_epochs(self):\n",
    "        plt.figure(figsize=(10,8))\n",
    "        plt.grid()\n",
    "        plt.plot(range(len(self.costs)),self.costs)\n",
    "        plt.scatter(range(len(self.costs)),self.costs)\n",
    "\n",
    "class Linear_Regression:\n",
    "\n",
    "    def cost(target_label,predicted_label,batch_size,batch_number):\n",
    "        error_vector = predicted_label.T - target_label[batch_number:batch_number+batch_size]\n",
    "        cost = (np.linalg.norm(error_vector) ** 2) / (batch_size*2)\n",
    "        return cost,error_vector\n",
    "    def gradient_1(data,target_label,theta,batch_size,batch_number):\n",
    "        predicted_label = data[batch_number:batch_number+batch_size]@theta\n",
    "  #predicted_label = predicted_label.T\n",
    "        error_vector = predicted_label - target_label[batch_number:batch_number+batch_size]\n",
    "        cost = (np.linalg.norm(error_vector) ** 2) / (batch_size*2)\n",
    "        D_theta = (error_vector.T@data[batch_number:batch_number+batch_size]) / batch_size\n",
    "        return D_theta.T,cost\n",
    "    def gradient_2(data):\n",
    "        m = data.shape[0]\n",
    "        D_theta_2 = data.T @ data / m\n",
    "        return D_theta_2\n"
   ]
  },
  {
   "cell_type": "code",
   "execution_count": 170,
   "metadata": {
    "colab": {
     "base_uri": "https://localhost:8080/"
    },
    "id": "QNMslNX3os00",
    "outputId": "f56af254-ea6d-4599-9b02-899c494a9ed7"
   },
   "outputs": [
    {
     "data": {
      "text/plain": [
       "0.9896615789448399"
      ]
     },
     "execution_count": 170,
     "metadata": {},
     "output_type": "execute_result"
    }
   ],
   "source": [
    "from sklearn.metrics import r2_score\n",
    "opt = SGD_with_Newton(X,y,Linear_Regression.gradient_1,Linear_Regression.gradient_2,1,300,25)\n",
    "i,theta,grad = opt.optimize()\n",
    "r2_score(y,data@theta)"
   ]
  },
  {
   "cell_type": "code",
   "execution_count": 162,
   "metadata": {
    "colab": {
     "base_uri": "https://localhost:8080/",
     "height": 485
    },
    "id": "jzeiyX4dpMz0",
    "outputId": "21c726d2-8bc1-42f6-c728-177c4b4181c7"
   },
   "outputs": [
    {
     "data": {
      "image/png": "[encoded data removed]",
      "text/plain": [
       "<Figure size 720x576 with 1 Axes>"
      ]
     },
     "metadata": {
      "needs_background": "light"
     },
     "output_type": "display_data"
    }
   ],
   "source": [
    "opt.loss_vs_epochs()"
   ]
  },
  {
   "cell_type": "code",
   "execution_count": 179,
   "metadata": {
    "id": "lKonrhJfzRy1"
   },
   "outputs": [],
   "source": []
  }
 ],
 "metadata": {
  "colab": {
   "provenance": []
  },
  "kernelspec": {
   "display_name": "Python 3 (ipykernel)",
   "language": "python",
   "name": "python3"
  },
  "language_info": {
   "codemirror_mode": {
    "name": "ipython",
    "version": 3
   },
   "file_extension": ".py",
   "mimetype": "text/x-python",
   "name": "python",
   "nbconvert_exporter": "python",
   "pygments_lexer": "ipython3",
   "version": "3.8.10"
  }
 },
 "nbformat": 4,
 "nbformat_minor": 1
}
