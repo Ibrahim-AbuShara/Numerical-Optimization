{
 "cells": [
  {
   "cell_type": "code",
   "execution_count": 1,
   "id": "e709bcbe",
   "metadata": {},
   "outputs": [],
   "source": [
    "import numpy as np\n",
    "import matplotlib.pyplot as plt \n",
    "from sklearn.metrics import r2_score\n",
    "%matplotlib inline"
   ]
  },
  {
   "cell_type": "code",
   "execution_count": 2,
   "id": "70005810",
   "metadata": {},
   "outputs": [],
   "source": [
    "data = np.genfromtxt('MultiVarLR.csv',delimiter=',')"
   ]
  },
  {
   "cell_type": "code",
   "execution_count": 26,
   "id": "ccad2e9d",
   "metadata": {},
   "outputs": [
    {
     "data": {
      "text/plain": [
       "25"
      ]
     },
     "execution_count": 26,
     "metadata": {},
     "output_type": "execute_result"
    }
   ],
   "source": [
    "data.shape[0]"
   ]
  },
  {
   "cell_type": "code",
   "execution_count": 18,
   "id": "547e89a5",
   "metadata": {},
   "outputs": [
    {
     "data": {
      "text/plain": [
       "array([[ 73.,  80.,  75.],\n",
       "       [ 93.,  88.,  93.],\n",
       "       [ 89.,  91.,  90.],\n",
       "       [ 96.,  98., 100.],\n",
       "       [ 73.,  66.,  70.],\n",
       "       [ 53.,  46.,  55.],\n",
       "       [ 69.,  74.,  77.],\n",
       "       [ 47.,  56.,  60.],\n",
       "       [ 87.,  79.,  90.],\n",
       "       [ 79.,  70.,  88.],\n",
       "       [ 69.,  70.,  73.],\n",
       "       [ 70.,  65.,  74.],\n",
       "       [ 93.,  95.,  91.],\n",
       "       [ 79.,  80.,  73.],\n",
       "       [ 70.,  73.,  78.],\n",
       "       [ 93.,  89.,  96.],\n",
       "       [ 78.,  75.,  68.],\n",
       "       [ 81.,  90.,  93.],\n",
       "       [ 88.,  92.,  86.],\n",
       "       [ 78.,  83.,  77.],\n",
       "       [ 82.,  86.,  90.],\n",
       "       [ 86.,  82.,  89.],\n",
       "       [ 78.,  83.,  85.],\n",
       "       [ 76.,  83.,  71.],\n",
       "       [ 96.,  93.,  95.]])"
      ]
     },
     "execution_count": 18,
     "metadata": {},
     "output_type": "execute_result"
    }
   ],
   "source": [
    "x1=data[:,:3]\n",
    "x1"
   ]
  },
  {
   "cell_type": "code",
   "execution_count": 128,
   "id": "f976760d",
   "metadata": {},
   "outputs": [
    {
     "data": {
      "text/plain": [
       "(25,)"
      ]
     },
     "execution_count": 128,
     "metadata": {},
     "output_type": "execute_result"
    }
   ],
   "source": [
    "y1=data[:,-1]\n",
    "y1.shape"
   ]
  },
  {
   "cell_type": "code",
   "execution_count": 4,
   "id": "cee244af",
   "metadata": {},
   "outputs": [],
   "source": [
    "x=np.array([ 0.        ,  0.40816327,  0.81632653,  1.2244898 ,  1.63265306,\n",
    "        2.04081633,  2.44897959,  2.85714286,  3.26530612,  3.67346939,\n",
    "        4.08163265,  4.48979592,  4.89795918,  5.30612245,  5.71428571,\n",
    "        6.12244898,  6.53061224,  6.93877551,  7.34693878,  7.75510204,\n",
    "        8.16326531,  8.57142857,  8.97959184,  9.3877551 ,  9.79591837,\n",
    "       10.20408163, 10.6122449 , 11.02040816, 11.42857143, 11.83673469,\n",
    "       12.24489796, 12.65306122, 13.06122449, 13.46938776, 13.87755102,\n",
    "       14.28571429, 14.69387755, 15.10204082, 15.51020408, 15.91836735,\n",
    "       16.32653061, 16.73469388, 17.14285714, 17.55102041, 17.95918367,\n",
    "       18.36734694, 18.7755102 , 19.18367347, 19.59183673, 20.        ]).reshape(-1,1)\n"
   ]
  },
  {
   "cell_type": "code",
   "execution_count": 5,
   "id": "7ff4aa60",
   "metadata": {
    "scrolled": true
   },
   "outputs": [],
   "source": [
    "a=-2\n",
    "b=1\n",
    "y=a*x+b\n"
   ]
  },
  {
   "cell_type": "code",
   "execution_count": 256,
   "id": "62d552fb",
   "metadata": {},
   "outputs": [],
   "source": [
    "import numpy as np\n",
    "\n",
    "def mini_batch_adam(x, y, alpha=0.01, batch=5, epochs=100, b1=0.9, b2=0.999, eps=1e-8):\n",
    "    X = np.concatenate((np.ones(x.shape[0])[:, np.newaxis], x), axis=1)\n",
    "    n_samples, n_features = X.shape\n",
    "    theta = np.zeros(n_features)\n",
    "    m_t = np.zeros(n_features)\n",
    "    v_t = np.zeros(n_features)\n",
    "    cost_epoch=[]\n",
    "    shuffle = np.random.permutation(n_samples)\n",
    "    X = X[shuffle]\n",
    "    y = y[shuffle]\n",
    "    for epoch in range(epochs):\n",
    "        for i in range(0, n_samples, batch):\n",
    "            X_batch = X[i:i+batch]\n",
    "            y_batch = y[i:i+batch]\n",
    "            y_pred = np.dot(X_batch, theta)\n",
    "            error = y_pred - y_batch\n",
    "            cost = np.sum(error ** 2) / (2 * batch)\n",
    "            d_theta = np.dot(X_batch.T, error) / batch\n",
    "            m_t = b1 * m_t + (1 - b1) * d_theta\n",
    "            v_t = b2 * v_t + (1 - b2) * (d_theta ** 2)\n",
    "            m_t_hat = m_t / (1 - b1 ** (i+1))\n",
    "            v_t_hat = v_t / (1 - b2 ** (i+1))\n",
    "            theta -= ((alpha * m_t_hat) / (np.sqrt(v_t_hat)) + eps)\n",
    "        cost_epoch.append(cost)\n",
    "        if epoch > 0:\n",
    "            if  np.linalg.norm(d_theta)<.001 or abs(cost_epoch[-1] - cost_epoch[-2]) < 0.001:\n",
    "                y_pred = np.dot(X, theta)\n",
    "                break\n",
    "            y_pred = np.dot(X, theta)\n",
    "    print(\"Epochs: \",epoch+1,'\\n')\n",
    "    print(\"Grgint victor: \",d_theta,'\\n')\n",
    "    print(\"y_predict: \",y_pred,\"\\n\")\n",
    "    print(\"y: \",y)\n",
    "    print(\"Accuracy: \",r2_score(y,y_pred),\"\\n\")\n",
    "    plt.plot(cost_epoch,\".b-\")\n",
    "    plt.xlabel(\"Epocs\", fontsize = 15)\n",
    "    plt.ylabel(\"Cost\",fontsize = 15)\n",
    "    plt.show()"
   ]
  },
  {
   "cell_type": "code",
   "execution_count": 258,
   "id": "86538003",
   "metadata": {},
   "outputs": [
    {
     "name": "stdout",
     "output_type": "stream",
     "text": [
      "Epochs:  48 \n",
      "\n",
      "Grgint victor:  [0.33163763 4.88999946 4.3582589  0.60291652] \n",
      "\n",
      "y_predict:  [165.68709361 197.88911622 148.24681386 148.92115131 177.7576047\n",
      " 160.31568956 140.88233462 142.88496335 156.29482524 153.60598185\n",
      " 173.73912877 187.1662329  179.09934387 173.07935104 110.00703261\n",
      " 181.78795784 159.67583661 187.8233281  154.94323839 191.18680308\n",
      " 172.41561425 140.88315232 184.48291926 148.92056303 103.99122826] \n",
      "\n",
      "y:  [175. 196. 149. 148. 183. 159. 142. 141. 152. 152. 177. 192. 177. 175.\n",
      " 115. 180. 164. 184. 149. 192. 175. 141. 185. 147. 101.]\n",
      "Accuracy:  0.9779550767139323 \n",
      "\n"
     ]
    },
    {
     "data": {
      "image/png": "[encoded data removed]",
      "text/plain": [
       "<Figure size 640x480 with 1 Axes>"
      ]
     },
     "metadata": {},
     "output_type": "display_data"
    }
   ],
   "source": [
    "mini_batch_adam(x1, y1, alpha=0.01, batch=5, epochs=1000, b1=0.9, b2=0.999, eps=1e-8)"
   ]
  },
  {
   "cell_type": "code",
   "execution_count": null,
   "id": "7fa5fa79",
   "metadata": {},
   "outputs": [],
   "source": []
  },
  {
   "cell_type": "code",
   "execution_count": null,
   "id": "9b2a7e57",
   "metadata": {},
   "outputs": [],
   "source": []
  },
  {
   "cell_type": "code",
   "execution_count": null,
   "id": "de4b9d8a",
   "metadata": {},
   "outputs": [],
   "source": []
  }
 ],
 "metadata": {
  "kernelspec": {
   "display_name": "Python 3 (ipykernel)",
   "language": "python",
   "name": "python3"
  },
  "language_info": {
   "codemirror_mode": {
    "name": "ipython",
    "version": 3
   },
   "file_extension": ".py",
   "mimetype": "text/x-python",
   "name": "python",
   "nbconvert_exporter": "python",
   "pygments_lexer": "ipython3",
   "version": "3.8.10"
  }
 },
 "nbformat": 4,
 "nbformat_minor": 5
}
