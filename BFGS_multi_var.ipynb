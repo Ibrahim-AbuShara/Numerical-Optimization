{
 "cells": [
  {
   "cell_type": "code",
   "execution_count": 1,
   "id": "0d6ea88e",
   "metadata": {},
   "outputs": [],
   "source": [
    "import numpy as np\n",
    "import matplotlib.pyplot as plt \n",
    "from sklearn.metrics import r2_score\n",
    "%matplotlib inline"
   ]
  },
  {
   "cell_type": "code",
   "execution_count": 2,
   "id": "7d139ce7",
   "metadata": {},
   "outputs": [],
   "source": [
    "data = np.genfromtxt('MultiVarLR.csv',delimiter=',')"
   ]
  },
  {
   "cell_type": "code",
   "execution_count": 3,
   "id": "24877e8b",
   "metadata": {},
   "outputs": [
    {
     "data": {
      "text/plain": [
       "(25, 4)"
      ]
     },
     "execution_count": 3,
     "metadata": {},
     "output_type": "execute_result"
    }
   ],
   "source": [
    "data.shape"
   ]
  },
  {
   "cell_type": "code",
   "execution_count": 4,
   "id": "457efaa6",
   "metadata": {},
   "outputs": [
    {
     "data": {
      "text/plain": [
       "array([152., 185., 180., 196., 142., 101., 149., 115., 175., 164., 141.,\n",
       "       141., 184., 152., 148., 192., 147., 183., 177., 159., 177., 175.,\n",
       "       175., 149., 192.])"
      ]
     },
     "execution_count": 4,
     "metadata": {},
     "output_type": "execute_result"
    }
   ],
   "source": [
    "data[:,-1]"
   ]
  },
  {
   "cell_type": "code",
   "execution_count": 35,
   "id": "a20e76ea",
   "metadata": {},
   "outputs": [],
   "source": [
    "def BFGS_multi_var(data , alpha, itr):\n",
    "    x=data[:,:-1]\n",
    "    y=data[:,-1]\n",
    "    y = y.reshape(len(y), 1)\n",
    "    X = np.concatenate((np.ones(x.shape[0])[:, np.newaxis], x), axis=1)#append bias\n",
    "    n_features = X.shape[1]\n",
    "    theta_zero = np.zeros((n_features, 1))\n",
    "    theta= np.array(n_features * [[0.01]])\n",
    "    identity_mat=np.eye(n_features)\n",
    "    b_inv=np.eye(n_features)\n",
    "    cost=[]\n",
    "    \n",
    "    #Calculate the first theta&prdiction&error&grdiant\n",
    "    thetas_history = [theta_zero]\n",
    "    pred_history= [np.dot(X, theta_zero)]\n",
    "    error_history= [(pred_history[0] - y)]\n",
    "    d_theta_history= [np.dot(X.T, error_history[0]) / len(X)]\n",
    "    \n",
    "    for i in range(itr):\n",
    "        #Calculate curnt theta&prdiction&error&grdiant\n",
    "        thetas_history.append(theta)\n",
    "        pred= np.dot(X, theta)\n",
    "        pred_history.append(pred)\n",
    "        error= pred - y\n",
    "        dj= np.linalg.norm(error)**2 / (2*len(X))\n",
    "        cost.append(dj.squeeze())\n",
    "        d_theta= np.dot(X.T, error) / len(X)\n",
    "        d_theta_history.append(d_theta)\n",
    "        \n",
    "        #get the delta= curnt - previos\n",
    "        delta_x = theta - thetas_history[-2]\n",
    "        delta_y = d_theta - d_theta_history[-2]\n",
    "        b_inv = (identity_mat - ((delta_x @ delta_y.T) / (delta_y.T @ delta_x))) @ b_inv @ (identity_mat -((delta_y @ delta_x.T) / (delta_y.T @ delta_x))) + ((delta_x @ delta_x.T) / (delta_y.T @ delta_x))\n",
    "        \n",
    "        #Update \n",
    "        theta = theta - alpha * (b_inv @ d_theta)\n",
    "        #Stop criteria condtion \n",
    "        if abs(np.linalg.norm(d_theta)) <= 0.000001:\n",
    "               break\n",
    "    print(f'Number of iterations: {i}')\n",
    "    print(\"----------------------------\")\n",
    "    print('thetas : \\n', theta)\n",
    "    print(\"----------------------------\")\n",
    "    print('Error Vector:\\n', error)\n",
    "    print(\"----------------------------\")\n",
    "    print('y_predict:\\n', pred)\n",
    "    print(\"----------------------------\")\n",
    "    print('y_actual:\\n', y)\n",
    "    print(\"----------------------------\")\n",
    "    print(\"Accuracy: \" ,r2_score(y,pred)*100,\"%\")\n",
    "    \n",
    "    plt.plot(cost,\".b-\")\n",
    "    plt.xlabel(\"iterations\", fontsize = 15)\n",
    "    plt.ylabel(\"Cost\",fontsize = 15)\n",
    "    plt.show()\n",
    "\n",
    "\n",
    "\n",
    "        \n",
    "        \n",
    "        "
   ]
  },
  {
   "cell_type": "code",
   "execution_count": 36,
   "id": "18993822",
   "metadata": {
    "scrolled": false
   },
   "outputs": [
    {
     "name": "stdout",
     "output_type": "stream",
     "text": [
      "Number of iterations: 10\n",
      "----------------------------\n",
      "thetas : \n",
      " [[-4.3361024 ]\n",
      " [ 0.35593822]\n",
      " [ 0.54251876]\n",
      " [ 1.16744422]]\n",
      "----------------------------\n",
      "Error Vector:\n",
      " [[ 0.60720439]\n",
      " [ 0.08011473]\n",
      " [ 1.78158547]\n",
      " [ 3.74522648]\n",
      " [-2.82527931]\n",
      " [ 2.69391791]\n",
      " [ 1.2632274 ]\n",
      " [-2.17930274]\n",
      " [-0.44051606]\n",
      " [ 0.49442094]\n",
      " [ 2.4233755 ]\n",
      " [ 1.23416415]\n",
      " [ 2.5428576 ]\n",
      " [ 0.40794527]\n",
      " [ 3.24409108]\n",
      " [-2.87503387]\n",
      " [-3.49780783]\n",
      " [-1.10610638]\n",
      " [ 0.29838915]\n",
      " [-0.65065981]\n",
      " [-0.42257585]\n",
      " [-0.33634222]\n",
      " [-7.31110608]\n",
      " [ 1.63279845]\n",
      " [-0.8045884 ]]\n",
      "----------------------------\n",
      "y_predict:\n",
      " [[152.60720439]\n",
      " [185.08011473]\n",
      " [181.78158547]\n",
      " [199.74522648]\n",
      " [139.17472069]\n",
      " [103.69391791]\n",
      " [150.2632274 ]\n",
      " [112.82069726]\n",
      " [174.55948394]\n",
      " [164.49442094]\n",
      " [143.4233755 ]\n",
      " [142.23416415]\n",
      " [186.5428576 ]\n",
      " [152.40794527]\n",
      " [151.24409108]\n",
      " [189.12496613]\n",
      " [143.50219217]\n",
      " [181.89389362]\n",
      " [177.29838915]\n",
      " [158.34934019]\n",
      " [176.57742415]\n",
      " [174.66365778]\n",
      " [167.68889392]\n",
      " [150.63279845]\n",
      " [191.1954116 ]]\n",
      "----------------------------\n",
      "y_actual:\n",
      " [[152.]\n",
      " [185.]\n",
      " [180.]\n",
      " [196.]\n",
      " [142.]\n",
      " [101.]\n",
      " [149.]\n",
      " [115.]\n",
      " [175.]\n",
      " [164.]\n",
      " [141.]\n",
      " [141.]\n",
      " [184.]\n",
      " [152.]\n",
      " [148.]\n",
      " [192.]\n",
      " [147.]\n",
      " [183.]\n",
      " [177.]\n",
      " [159.]\n",
      " [177.]\n",
      " [175.]\n",
      " [175.]\n",
      " [149.]\n",
      " [192.]]\n",
      "----------------------------\n",
      "Accuracy:  98.96615789448398 %\n"
     ]
    },
    {
     "data": {
      "image/png": "[encoded data removed]",
      "text/plain": [
       "<Figure size 640x480 with 1 Axes>"
      ]
     },
     "metadata": {},
     "output_type": "display_data"
    }
   ],
   "source": [
    "BFGS_multi_var(data , 1, 1000)"
   ]
  },
  {
   "cell_type": "code",
   "execution_count": null,
   "id": "e9f9525b",
   "metadata": {},
   "outputs": [],
   "source": []
  }
 ],
 "metadata": {
  "kernelspec": {
   "display_name": "Python 3 (ipykernel)",
   "language": "python",
   "name": "python3"
  },
  "language_info": {
   "codemirror_mode": {
    "name": "ipython",
    "version": 3
   },
   "file_extension": ".py",
   "mimetype": "text/x-python",
   "name": "python",
   "nbconvert_exporter": "python",
   "pygments_lexer": "ipython3",
   "version": "3.10.6"
  }
 },
 "nbformat": 4,
 "nbformat_minor": 5
}
