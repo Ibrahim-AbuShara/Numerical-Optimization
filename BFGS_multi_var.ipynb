{
 "cells": [
  {
   "cell_type": "code",
   "execution_count": 56,
   "id": "0d6ea88e",
   "metadata": {},
   "outputs": [],
   "source": [
    "import numpy as np\n",
    "import matplotlib.pyplot as plt \n",
    "from sklearn.metrics import r2_score\n",
    "%matplotlib inline"
   ]
  },
  {
   "cell_type": "code",
   "execution_count": 2,
   "id": "7d139ce7",
   "metadata": {},
   "outputs": [],
   "source": [
    "data = np.genfromtxt('MultiVarLR.csv',delimiter=',')"
   ]
  },
  {
   "cell_type": "code",
   "execution_count": 4,
   "id": "24877e8b",
   "metadata": {},
   "outputs": [
    {
     "data": {
      "text/plain": [
       "(25, 4)"
      ]
     },
     "execution_count": 4,
     "metadata": {},
     "output_type": "execute_result"
    }
   ],
   "source": [
    "data.shape"
   ]
  },
  {
   "cell_type": "code",
   "execution_count": 11,
   "id": "457efaa6",
   "metadata": {},
   "outputs": [
    {
     "data": {
      "text/plain": [
       "array([152., 185., 180., 196., 142., 101., 149., 115., 175., 164., 141.,\n",
       "       141., 184., 152., 148., 192., 147., 183., 177., 159., 177., 175.,\n",
       "       175., 149., 192.])"
      ]
     },
     "execution_count": 11,
     "metadata": {},
     "output_type": "execute_result"
    }
   ],
   "source": [
    "data[:,-1]"
   ]
  },
  {
   "cell_type": "code",
   "execution_count": 72,
   "id": "a20e76ea",
   "metadata": {},
   "outputs": [],
   "source": [
    "def BFGS_multi_var(data , alpha, itr):\n",
    "    x=data[:,:-1]\n",
    "    y=data[:,-1]\n",
    "    y = y.reshape(len(y), 1)\n",
    "    X = np.concatenate((np.ones(x.shape[0])[:, np.newaxis], x), axis=1)#append bias\n",
    "    n_features = X.shape[1]\n",
    "    theta_zero = np.zeros((n_features, 1))\n",
    "    theta= np.array(n_features * [[0.01]])\n",
    "    identity_mat=np.eye(n_features)\n",
    "    b_inv=np.eye(n_features)\n",
    "    cost=[]\n",
    "    \n",
    "    thetas_history = [theta_zero]\n",
    "    pred_history= [np.dot(X, theta_zero)]\n",
    "    error_history= [(pred_history[0] - y)]\n",
    "    d_theta_history= [np.dot(X.T, error_history[0]) / len(X)]\n",
    "    \n",
    "    for i in range(itr):\n",
    "        thetas_history.append(theta)\n",
    "        pred= np.dot(X, theta)\n",
    "        pred_history.append(pred)\n",
    "        error= pred - y\n",
    "        dj= np.linalg.norm(error)**2 / (2*len(X))\n",
    "        cost.append(dj.squeeze())\n",
    "        d_theta= np.dot(X.T, error) / len(X)\n",
    "        d_theta_history.append(d_theta)\n",
    "        \n",
    "        delta_x = theta - thetas_history[-2]\n",
    "        delta_y = d_theta - d_theta_history[-2]\n",
    "        b_inv = (identity_mat - ((delta_x @ delta_y.T) / (delta_y.T @ delta_x))) @ b_inv @ (identity_mat -((delta_y @ delta_x.T) / (delta_y.T @ delta_x))) + ((delta_x @ delta_x.T) / (delta_y.T @ delta_x))\n",
    "        \n",
    "        theta = theta - alpha * (b_inv @ d_theta)\n",
    "        if abs(np.linalg.norm(d_theta)) <= 0.000001:\n",
    "               break\n",
    "    print(f'Number of iterations: {i}')\n",
    "    print(\"----------------------------\")\n",
    "    print('thetas : \\n', theta)\n",
    "    print(\"----------------------------\")\n",
    "    print('Error Vector:\\n', error)\n",
    "    print(\"----------------------------\")\n",
    "    print('y_predict:\\n', pred)\n",
    "    print(\"----------------------------\")\n",
    "    print('y_actual:\\n', y)\n",
    "    print(\"----------------------------\")\n",
    "    print(\"Accuracy: \" ,r2_score(y,pred))\n",
    "    \n",
    "    plt.plot(cost,\".b-\")\n",
    "    plt.xlabel(\"iterations\", fontsize = 15)\n",
    "    plt.ylabel(\"Cost\",fontsize = 15)\n",
    "    plt.show()\n",
    "\n",
    "\n",
    "\n",
    "        \n",
    "        \n",
    "        "
   ]
  },
  {
   "cell_type": "code",
   "execution_count": 73,
   "id": "18993822",
   "metadata": {
    "scrolled": false
   },
   "outputs": [
    {
     "name": "stdout",
     "output_type": "stream",
     "text": [
      "Number of iterations: 483\n",
      "----------------------------\n",
      "thetas : \n",
      " [[-4.3361024 ]\n",
      " [ 0.35593822]\n",
      " [ 0.54251876]\n",
      " [ 1.16744422]]\n",
      "----------------------------\n",
      "Error Vector:\n",
      " [[ 0.6072044 ]\n",
      " [ 0.08011473]\n",
      " [ 1.78158548]\n",
      " [ 3.74522647]\n",
      " [-2.82527929]\n",
      " [ 2.69391794]\n",
      " [ 1.26322741]\n",
      " [-2.17930272]\n",
      " [-0.44051605]\n",
      " [ 0.49442095]\n",
      " [ 2.42337551]\n",
      " [ 1.23416416]\n",
      " [ 2.5428576 ]\n",
      " [ 0.40794528]\n",
      " [ 3.24409109]\n",
      " [-2.87503386]\n",
      " [-3.49780781]\n",
      " [-1.10610638]\n",
      " [ 0.29838915]\n",
      " [-0.65065981]\n",
      " [-0.42257584]\n",
      " [-0.33634221]\n",
      " [-7.31110607]\n",
      " [ 1.63279846]\n",
      " [-0.8045884 ]]\n",
      "----------------------------\n",
      "y_predict:\n",
      " [[152.6072044 ]\n",
      " [185.08011473]\n",
      " [181.78158548]\n",
      " [199.74522647]\n",
      " [139.17472071]\n",
      " [103.69391794]\n",
      " [150.26322741]\n",
      " [112.82069728]\n",
      " [174.55948395]\n",
      " [164.49442095]\n",
      " [143.42337551]\n",
      " [142.23416416]\n",
      " [186.5428576 ]\n",
      " [152.40794528]\n",
      " [151.24409109]\n",
      " [189.12496614]\n",
      " [143.50219219]\n",
      " [181.89389362]\n",
      " [177.29838915]\n",
      " [158.34934019]\n",
      " [176.57742416]\n",
      " [174.66365779]\n",
      " [167.68889393]\n",
      " [150.63279846]\n",
      " [191.1954116 ]]\n",
      "----------------------------\n",
      "y_actual:\n",
      " [[152.]\n",
      " [185.]\n",
      " [180.]\n",
      " [196.]\n",
      " [142.]\n",
      " [101.]\n",
      " [149.]\n",
      " [115.]\n",
      " [175.]\n",
      " [164.]\n",
      " [141.]\n",
      " [141.]\n",
      " [184.]\n",
      " [152.]\n",
      " [148.]\n",
      " [192.]\n",
      " [147.]\n",
      " [183.]\n",
      " [177.]\n",
      " [159.]\n",
      " [177.]\n",
      " [175.]\n",
      " [175.]\n",
      " [149.]\n",
      " [192.]]\n",
      "----------------------------\n",
      "Accuracy:  0.9896615789448399\n"
     ]
    },
    {
     "data": {
      "image/png": "[encoded data removed]",
      "text/plain": [
       "<Figure size 640x480 with 1 Axes>"
      ]
     },
     "metadata": {},
     "output_type": "display_data"
    }
   ],
   "source": [
    "BFGS_multi_var(data , 0.05, 1000)"
   ]
  },
  {
   "cell_type": "code",
   "execution_count": null,
   "id": "bd356e7c",
   "metadata": {},
   "outputs": [],
   "source": []
  }
 ],
 "metadata": {
  "kernelspec": {
   "display_name": "Python 3 (ipykernel)",
   "language": "python",
   "name": "python3"
  },
  "language_info": {
   "codemirror_mode": {
    "name": "ipython",
    "version": 3
   },
   "file_extension": ".py",
   "mimetype": "text/x-python",
   "name": "python",
   "nbconvert_exporter": "python",
   "pygments_lexer": "ipython3",
   "version": "3.8.10"
  }
 },
 "nbformat": 4,
 "nbformat_minor": 5
}
